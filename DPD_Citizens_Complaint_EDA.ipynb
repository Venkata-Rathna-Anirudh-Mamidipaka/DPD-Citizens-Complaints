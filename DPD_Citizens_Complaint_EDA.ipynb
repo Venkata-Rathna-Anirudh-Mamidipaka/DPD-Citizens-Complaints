{
 "cells": [
  {
   "cell_type": "markdown",
   "metadata": {},
   "source": [
    "# DPD Citizens Complaint "
   ]
  },
  {
   "cell_type": "markdown",
   "metadata": {},
   "source": [
    "# Data Description"
   ]
  },
  {
   "cell_type": "markdown",
   "metadata": {},
   "source": [
    "•\tBPC or Board of Police Commissioners number – a unique identifier issued by the BPC to each case in numerical order after the case has been assigned to an Investigator, used for internal tracking purposes\n",
    "•\tCCR or Citizen Complaint Report number – the unique identifier automatically assigned to the case via the data management system \n",
    "•\tReport Date – date the complaint was filed\n",
    "•\tEntry – mode of entry for the complaint by the citizen\n",
    "•\tAge – age of the citizen filing the complaint \n",
    "•\tctznRace – race of the citizen filing the complaint \n",
    "•\tctznSex – sex of the citizen filing the complaint \n",
    "•\tClosed – date the investigation was completed by OCI \n",
    "•\tUnit – commanding unit of the officer against which the complaint was filed\n",
    "•\tAdministrative Closure – administrative finding \n",
    "•\tAllegation – a claim as set forth by the citizen complaint\n",
    "•\tFinding – the disposition of a citizen complaint after investigation\n",
    "•\tofcrRace – race of the officer against which the complaint was filed\n",
    "•\tofcrSex – sex of the officer against which the complaint was filed"
   ]
  },
  {
   "cell_type": "code",
   "execution_count": 3,
   "metadata": {},
   "outputs": [],
   "source": [
    "import numpy as np\n",
    "import pandas as pd\n",
    "import matplotlib.pyplot as plt\n",
    "%matplotlib inline\n",
    "import seaborn as sns"
   ]
  },
  {
   "cell_type": "code",
   "execution_count": 4,
   "metadata": {},
   "outputs": [],
   "source": [
    "df = pd.read_csv(\"DPD__Citizen_Complaints.csv\")"
   ]
  },
  {
   "cell_type": "code",
   "execution_count": 3,
   "metadata": {},
   "outputs": [
    {
     "data": {
      "text/html": [
       "<div>\n",
       "<style scoped>\n",
       "    .dataframe tbody tr th:only-of-type {\n",
       "        vertical-align: middle;\n",
       "    }\n",
       "\n",
       "    .dataframe tbody tr th {\n",
       "        vertical-align: top;\n",
       "    }\n",
       "\n",
       "    .dataframe thead th {\n",
       "        text-align: right;\n",
       "    }\n",
       "</style>\n",
       "<table border=\"1\" class=\"dataframe\">\n",
       "  <thead>\n",
       "    <tr style=\"text-align: right;\">\n",
       "      <th></th>\n",
       "      <th>BPC</th>\n",
       "      <th>CCR</th>\n",
       "      <th>Report Date</th>\n",
       "      <th>Entry</th>\n",
       "      <th>Age</th>\n",
       "      <th>ctznRace</th>\n",
       "      <th>ctznSex</th>\n",
       "      <th>Closed</th>\n",
       "      <th>Unit</th>\n",
       "      <th>Administrative Closure</th>\n",
       "      <th>Allegation</th>\n",
       "      <th>Finding</th>\n",
       "      <th>ofcrRace</th>\n",
       "      <th>ofcrSex</th>\n",
       "    </tr>\n",
       "  </thead>\n",
       "  <tbody>\n",
       "    <tr>\n",
       "      <th>0</th>\n",
       "      <td>16-1</td>\n",
       "      <td>67127</td>\n",
       "      <td>01/01/2016</td>\n",
       "      <td>Walk In</td>\n",
       "      <td>65.0</td>\n",
       "      <td>Black</td>\n",
       "      <td>Female</td>\n",
       "      <td>01/25/2016</td>\n",
       "      <td>UNKNOWN COMMAND</td>\n",
       "      <td>NaN</td>\n",
       "      <td>Procedure</td>\n",
       "      <td>Not Sustained</td>\n",
       "      <td>Unknown</td>\n",
       "      <td>Unknown</td>\n",
       "    </tr>\n",
       "    <tr>\n",
       "      <th>1</th>\n",
       "      <td>16-2</td>\n",
       "      <td>67128</td>\n",
       "      <td>01/04/2016</td>\n",
       "      <td>Walk In</td>\n",
       "      <td>75.0</td>\n",
       "      <td>Black</td>\n",
       "      <td>Male</td>\n",
       "      <td>01/21/2016</td>\n",
       "      <td>11TH PRECINCT</td>\n",
       "      <td>Admin. Closure</td>\n",
       "      <td>Procedure</td>\n",
       "      <td>Admin. Closure</td>\n",
       "      <td>Black</td>\n",
       "      <td>Male</td>\n",
       "    </tr>\n",
       "    <tr>\n",
       "      <th>2</th>\n",
       "      <td>16-2</td>\n",
       "      <td>67128</td>\n",
       "      <td>01/04/2016</td>\n",
       "      <td>Walk In</td>\n",
       "      <td>75.0</td>\n",
       "      <td>Black</td>\n",
       "      <td>Male</td>\n",
       "      <td>01/21/2016</td>\n",
       "      <td>11TH PRECINCT</td>\n",
       "      <td>Admin. Closure</td>\n",
       "      <td>Procedure</td>\n",
       "      <td>Admin. Closure</td>\n",
       "      <td>Black</td>\n",
       "      <td>Male</td>\n",
       "    </tr>\n",
       "    <tr>\n",
       "      <th>3</th>\n",
       "      <td>16-3</td>\n",
       "      <td>67129</td>\n",
       "      <td>01/04/2016</td>\n",
       "      <td>Telephone (or TDD)</td>\n",
       "      <td>60.0</td>\n",
       "      <td>Black</td>\n",
       "      <td>Female</td>\n",
       "      <td>03/07/2016</td>\n",
       "      <td>5TH PRECINCT</td>\n",
       "      <td>NaN</td>\n",
       "      <td>Demeanor</td>\n",
       "      <td>No Charge</td>\n",
       "      <td>NaN</td>\n",
       "      <td>Male</td>\n",
       "    </tr>\n",
       "    <tr>\n",
       "      <th>4</th>\n",
       "      <td>16-3</td>\n",
       "      <td>67129</td>\n",
       "      <td>01/04/2016</td>\n",
       "      <td>Telephone (or TDD)</td>\n",
       "      <td>60.0</td>\n",
       "      <td>Black</td>\n",
       "      <td>Female</td>\n",
       "      <td>03/07/2016</td>\n",
       "      <td>5TH PRECINCT</td>\n",
       "      <td>NaN</td>\n",
       "      <td>Demeanor</td>\n",
       "      <td>Not Sustained</td>\n",
       "      <td>Hispanic</td>\n",
       "      <td>Male</td>\n",
       "    </tr>\n",
       "  </tbody>\n",
       "</table>\n",
       "</div>"
      ],
      "text/plain": [
       "    BPC    CCR Report Date               Entry   Age ctznRace ctznSex  \\\n",
       "0  16-1  67127  01/01/2016             Walk In  65.0    Black  Female   \n",
       "1  16-2  67128  01/04/2016             Walk In  75.0    Black    Male   \n",
       "2  16-2  67128  01/04/2016             Walk In  75.0    Black    Male   \n",
       "3  16-3  67129  01/04/2016  Telephone (or TDD)  60.0    Black  Female   \n",
       "4  16-3  67129  01/04/2016  Telephone (or TDD)  60.0    Black  Female   \n",
       "\n",
       "       Closed             Unit Administrative Closure Allegation  \\\n",
       "0  01/25/2016  UNKNOWN COMMAND                    NaN  Procedure   \n",
       "1  01/21/2016    11TH PRECINCT         Admin. Closure  Procedure   \n",
       "2  01/21/2016    11TH PRECINCT         Admin. Closure  Procedure   \n",
       "3  03/07/2016     5TH PRECINCT                    NaN   Demeanor   \n",
       "4  03/07/2016     5TH PRECINCT                    NaN   Demeanor   \n",
       "\n",
       "          Finding  ofcrRace  ofcrSex  \n",
       "0   Not Sustained   Unknown  Unknown  \n",
       "1  Admin. Closure     Black     Male  \n",
       "2  Admin. Closure     Black     Male  \n",
       "3       No Charge       NaN     Male  \n",
       "4   Not Sustained  Hispanic     Male  "
      ]
     },
     "execution_count": 3,
     "metadata": {},
     "output_type": "execute_result"
    }
   ],
   "source": [
    "df.head()"
   ]
  },
  {
   "cell_type": "code",
   "execution_count": 4,
   "metadata": {},
   "outputs": [
    {
     "data": {
      "text/html": [
       "<div>\n",
       "<style scoped>\n",
       "    .dataframe tbody tr th:only-of-type {\n",
       "        vertical-align: middle;\n",
       "    }\n",
       "\n",
       "    .dataframe tbody tr th {\n",
       "        vertical-align: top;\n",
       "    }\n",
       "\n",
       "    .dataframe thead th {\n",
       "        text-align: right;\n",
       "    }\n",
       "</style>\n",
       "<table border=\"1\" class=\"dataframe\">\n",
       "  <thead>\n",
       "    <tr style=\"text-align: right;\">\n",
       "      <th></th>\n",
       "      <th>BPC</th>\n",
       "      <th>CCR</th>\n",
       "      <th>Report Date</th>\n",
       "      <th>Entry</th>\n",
       "      <th>Age</th>\n",
       "      <th>ctznRace</th>\n",
       "      <th>ctznSex</th>\n",
       "      <th>Closed</th>\n",
       "      <th>Unit</th>\n",
       "      <th>Administrative Closure</th>\n",
       "      <th>Allegation</th>\n",
       "      <th>Finding</th>\n",
       "      <th>ofcrRace</th>\n",
       "      <th>ofcrSex</th>\n",
       "    </tr>\n",
       "  </thead>\n",
       "  <tbody>\n",
       "    <tr>\n",
       "      <th>9373</th>\n",
       "      <td>18-153</td>\n",
       "      <td>69567</td>\n",
       "      <td>02/27/2018</td>\n",
       "      <td>Telephone (or TDD)</td>\n",
       "      <td>38.0</td>\n",
       "      <td>NaN</td>\n",
       "      <td>Male</td>\n",
       "      <td>02/27/2018</td>\n",
       "      <td>8TH PRECINCT</td>\n",
       "      <td>Duplication</td>\n",
       "      <td>Procedure</td>\n",
       "      <td>Void</td>\n",
       "      <td>Black</td>\n",
       "      <td>Male</td>\n",
       "    </tr>\n",
       "    <tr>\n",
       "      <th>9374</th>\n",
       "      <td>18-153</td>\n",
       "      <td>69567</td>\n",
       "      <td>02/27/2018</td>\n",
       "      <td>Telephone (or TDD)</td>\n",
       "      <td>38.0</td>\n",
       "      <td>NaN</td>\n",
       "      <td>Male</td>\n",
       "      <td>02/27/2018</td>\n",
       "      <td>8TH PRECINCT</td>\n",
       "      <td>Duplication</td>\n",
       "      <td>Service</td>\n",
       "      <td>Void</td>\n",
       "      <td>Black</td>\n",
       "      <td>Male</td>\n",
       "    </tr>\n",
       "    <tr>\n",
       "      <th>9375</th>\n",
       "      <td>18-154</td>\n",
       "      <td>69568</td>\n",
       "      <td>02/27/2018</td>\n",
       "      <td>Telephone (or TDD)</td>\n",
       "      <td>38.0</td>\n",
       "      <td>NaN</td>\n",
       "      <td>Male</td>\n",
       "      <td>02/27/2018</td>\n",
       "      <td>8TH PRECINCT</td>\n",
       "      <td>Duplication</td>\n",
       "      <td>Demeanor</td>\n",
       "      <td>Void</td>\n",
       "      <td>Black</td>\n",
       "      <td>Male</td>\n",
       "    </tr>\n",
       "    <tr>\n",
       "      <th>9376</th>\n",
       "      <td>18-154</td>\n",
       "      <td>69568</td>\n",
       "      <td>02/27/2018</td>\n",
       "      <td>Telephone (or TDD)</td>\n",
       "      <td>38.0</td>\n",
       "      <td>NaN</td>\n",
       "      <td>Male</td>\n",
       "      <td>02/27/2018</td>\n",
       "      <td>8TH PRECINCT</td>\n",
       "      <td>Duplication</td>\n",
       "      <td>Procedure</td>\n",
       "      <td>Void</td>\n",
       "      <td>Black</td>\n",
       "      <td>Male</td>\n",
       "    </tr>\n",
       "    <tr>\n",
       "      <th>9377</th>\n",
       "      <td>18-154</td>\n",
       "      <td>69568</td>\n",
       "      <td>02/27/2018</td>\n",
       "      <td>Telephone (or TDD)</td>\n",
       "      <td>38.0</td>\n",
       "      <td>NaN</td>\n",
       "      <td>Male</td>\n",
       "      <td>02/27/2018</td>\n",
       "      <td>8TH PRECINCT</td>\n",
       "      <td>Duplication</td>\n",
       "      <td>Service</td>\n",
       "      <td>Void</td>\n",
       "      <td>Black</td>\n",
       "      <td>Male</td>\n",
       "    </tr>\n",
       "  </tbody>\n",
       "</table>\n",
       "</div>"
      ],
      "text/plain": [
       "         BPC    CCR Report Date               Entry   Age ctznRace ctznSex  \\\n",
       "9373  18-153  69567  02/27/2018  Telephone (or TDD)  38.0      NaN    Male   \n",
       "9374  18-153  69567  02/27/2018  Telephone (or TDD)  38.0      NaN    Male   \n",
       "9375  18-154  69568  02/27/2018  Telephone (or TDD)  38.0      NaN    Male   \n",
       "9376  18-154  69568  02/27/2018  Telephone (or TDD)  38.0      NaN    Male   \n",
       "9377  18-154  69568  02/27/2018  Telephone (or TDD)  38.0      NaN    Male   \n",
       "\n",
       "          Closed          Unit Administrative Closure Allegation Finding  \\\n",
       "9373  02/27/2018  8TH PRECINCT            Duplication  Procedure    Void   \n",
       "9374  02/27/2018  8TH PRECINCT            Duplication    Service    Void   \n",
       "9375  02/27/2018  8TH PRECINCT            Duplication   Demeanor    Void   \n",
       "9376  02/27/2018  8TH PRECINCT            Duplication  Procedure    Void   \n",
       "9377  02/27/2018  8TH PRECINCT            Duplication    Service    Void   \n",
       "\n",
       "     ofcrRace ofcrSex  \n",
       "9373    Black    Male  \n",
       "9374    Black    Male  \n",
       "9375    Black    Male  \n",
       "9376    Black    Male  \n",
       "9377    Black    Male  "
      ]
     },
     "execution_count": 4,
     "metadata": {},
     "output_type": "execute_result"
    }
   ],
   "source": [
    "df.tail()"
   ]
  },
  {
   "cell_type": "code",
   "execution_count": 5,
   "metadata": {},
   "outputs": [
    {
     "data": {
      "text/html": [
       "<div>\n",
       "<style scoped>\n",
       "    .dataframe tbody tr th:only-of-type {\n",
       "        vertical-align: middle;\n",
       "    }\n",
       "\n",
       "    .dataframe tbody tr th {\n",
       "        vertical-align: top;\n",
       "    }\n",
       "\n",
       "    .dataframe thead th {\n",
       "        text-align: right;\n",
       "    }\n",
       "</style>\n",
       "<table border=\"1\" class=\"dataframe\">\n",
       "  <thead>\n",
       "    <tr style=\"text-align: right;\">\n",
       "      <th></th>\n",
       "      <th>CCR</th>\n",
       "      <th>Age</th>\n",
       "    </tr>\n",
       "  </thead>\n",
       "  <tbody>\n",
       "    <tr>\n",
       "      <th>count</th>\n",
       "      <td>9378.000000</td>\n",
       "      <td>9356.000000</td>\n",
       "    </tr>\n",
       "    <tr>\n",
       "      <th>mean</th>\n",
       "      <td>68352.569418</td>\n",
       "      <td>36.507268</td>\n",
       "    </tr>\n",
       "    <tr>\n",
       "      <th>std</th>\n",
       "      <td>697.710632</td>\n",
       "      <td>16.441759</td>\n",
       "    </tr>\n",
       "    <tr>\n",
       "      <th>min</th>\n",
       "      <td>67127.000000</td>\n",
       "      <td>-2.000000</td>\n",
       "    </tr>\n",
       "    <tr>\n",
       "      <th>25%</th>\n",
       "      <td>67740.000000</td>\n",
       "      <td>26.000000</td>\n",
       "    </tr>\n",
       "    <tr>\n",
       "      <th>50%</th>\n",
       "      <td>68342.000000</td>\n",
       "      <td>36.000000</td>\n",
       "    </tr>\n",
       "    <tr>\n",
       "      <th>75%</th>\n",
       "      <td>68970.000000</td>\n",
       "      <td>47.000000</td>\n",
       "    </tr>\n",
       "    <tr>\n",
       "      <th>max</th>\n",
       "      <td>69568.000000</td>\n",
       "      <td>117.000000</td>\n",
       "    </tr>\n",
       "  </tbody>\n",
       "</table>\n",
       "</div>"
      ],
      "text/plain": [
       "                CCR          Age\n",
       "count   9378.000000  9356.000000\n",
       "mean   68352.569418    36.507268\n",
       "std      697.710632    16.441759\n",
       "min    67127.000000    -2.000000\n",
       "25%    67740.000000    26.000000\n",
       "50%    68342.000000    36.000000\n",
       "75%    68970.000000    47.000000\n",
       "max    69568.000000   117.000000"
      ]
     },
     "execution_count": 5,
     "metadata": {},
     "output_type": "execute_result"
    }
   ],
   "source": [
    "df.describe()"
   ]
  },
  {
   "cell_type": "code",
   "execution_count": 5,
   "metadata": {},
   "outputs": [
    {
     "name": "stdout",
     "output_type": "stream",
     "text": [
      "<class 'pandas.core.frame.DataFrame'>\n",
      "RangeIndex: 9378 entries, 0 to 9377\n",
      "Data columns (total 14 columns):\n",
      "BPC                       9378 non-null object\n",
      "CCR                       9378 non-null int64\n",
      "Report Date               9378 non-null object\n",
      "Entry                     9378 non-null object\n",
      "Age                       9356 non-null float64\n",
      "ctznRace                  9363 non-null object\n",
      "ctznSex                   9378 non-null object\n",
      "Closed                    9375 non-null object\n",
      "Unit                      9378 non-null object\n",
      "Administrative Closure    2165 non-null object\n",
      "Allegation                9378 non-null object\n",
      "Finding                   9378 non-null object\n",
      "ofcrRace                  9356 non-null object\n",
      "ofcrSex                   9378 non-null object\n",
      "dtypes: float64(1), int64(1), object(12)\n",
      "memory usage: 1.0+ MB\n"
     ]
    }
   ],
   "source": [
    "df.info()"
   ]
  },
  {
   "cell_type": "code",
   "execution_count": 7,
   "metadata": {},
   "outputs": [
    {
     "data": {
      "text/plain": [
       "(9378, 14)"
      ]
     },
     "execution_count": 7,
     "metadata": {},
     "output_type": "execute_result"
    }
   ],
   "source": [
    "df.shape"
   ]
  },
  {
   "cell_type": "code",
   "execution_count": 9,
   "metadata": {},
   "outputs": [
    {
     "data": {
      "text/plain": [
       "Index(['BPC', 'CCR', 'Report Date', 'Entry', 'Age', 'ctznRace', 'ctznSex',\n",
       "       'Closed', 'Unit', 'Administrative Closure', 'Allegation', 'Finding',\n",
       "       'ofcrRace', 'ofcrSex'],\n",
       "      dtype='object')"
      ]
     },
     "execution_count": 9,
     "metadata": {},
     "output_type": "execute_result"
    }
   ],
   "source": [
    "df.columns"
   ]
  },
  {
   "cell_type": "code",
   "execution_count": 8,
   "metadata": {},
   "outputs": [
    {
     "data": {
      "text/plain": [
       "2"
      ]
     },
     "execution_count": 8,
     "metadata": {},
     "output_type": "execute_result"
    }
   ],
   "source": [
    "df.ndim"
   ]
  },
  {
   "cell_type": "code",
   "execution_count": 6,
   "metadata": {},
   "outputs": [],
   "source": [
    "vals = df['Allegation'].value_counts()"
   ]
  },
  {
   "cell_type": "code",
   "execution_count": 7,
   "metadata": {},
   "outputs": [
    {
     "data": {
      "text/plain": [
       "Procedure     3249\n",
       "Demeanor      2285\n",
       "Service       1331\n",
       "Force          636\n",
       "Property       480\n",
       "Harassment     453\n",
       "Search         444\n",
       "Arrest         318\n",
       "Entry          177\n",
       "procedure        4\n",
       "arrest           1\n",
       "Name: Allegation, dtype: int64"
      ]
     },
     "execution_count": 7,
     "metadata": {},
     "output_type": "execute_result"
    }
   ],
   "source": [
    "vals"
   ]
  },
  {
   "cell_type": "code",
   "execution_count": 8,
   "metadata": {},
   "outputs": [
    {
     "data": {
      "image/png": "[encoded data removed]",
      "text/plain": [
       "<matplotlib.figure.Figure at 0x1d87a5a6518>"
      ]
     },
     "metadata": {},
     "output_type": "display_data"
    }
   ],
   "source": [
    "plt.figure(figsize=(10, 6),)\n",
    "ax = vals.plot.bar(width = 1.0)\n",
    "for i, v in vals.reset_index().iterrows():\n",
    "    ax.text(i, v.Allegation + 0.2, v.Allegation, color = 'blue')"
   ]
  },
  {
   "cell_type": "code",
   "execution_count": 9,
   "metadata": {},
   "outputs": [
    {
     "data": {
      "text/plain": [
       "array(['Black', 'Other', 'White', 'Unknown', 'Hispanic', 'Arabic',\n",
       "       'Biracial', 'Asian', 'Pakistani', 'Chaldean', 'Native American',\n",
       "       nan], dtype=object)"
      ]
     },
     "execution_count": 9,
     "metadata": {},
     "output_type": "execute_result"
    }
   ],
   "source": [
    "df['ctznRace'].unique()"
   ]
  },
  {
   "cell_type": "code",
   "execution_count": 10,
   "metadata": {},
   "outputs": [
    {
     "data": {
      "text/plain": [
       "array(['Female', 'Male', 'Unknown'], dtype=object)"
      ]
     },
     "execution_count": 10,
     "metadata": {},
     "output_type": "execute_result"
    }
   ],
   "source": [
    "df['ctznSex'].unique()"
   ]
  },
  {
   "cell_type": "code",
   "execution_count": 11,
   "metadata": {},
   "outputs": [
    {
     "data": {
      "text/plain": [
       "array(['Unknown', 'Black', nan, 'Hispanic', 'White', 'Other', 'Asian'],\n",
       "      dtype=object)"
      ]
     },
     "execution_count": 11,
     "metadata": {},
     "output_type": "execute_result"
    }
   ],
   "source": [
    "df['ofcrRace'].unique()"
   ]
  },
  {
   "cell_type": "code",
   "execution_count": 12,
   "metadata": {},
   "outputs": [
    {
     "data": {
      "text/plain": [
       "array(['Unknown', 'Male', 'Female'], dtype=object)"
      ]
     },
     "execution_count": 12,
     "metadata": {},
     "output_type": "execute_result"
    }
   ],
   "source": [
    "df['ofcrSex'].unique()"
   ]
  },
  {
   "cell_type": "code",
   "execution_count": 13,
   "metadata": {},
   "outputs": [
    {
     "data": {
      "image/png": "[encoded data removed]",
      "text/plain": [
       "<matplotlib.figure.Figure at 0x1d87a5a6048>"
      ]
     },
     "metadata": {},
     "output_type": "display_data"
    }
   ],
   "source": [
    "plt.figure(figsize=(12, 6),)\n",
    "sns.countplot(x = 'ctznRace', hue = 'ctznSex', data = df)\n",
    "plt.tight_layout()\n",
    "plt.show()"
   ]
  },
  {
   "cell_type": "code",
   "execution_count": 14,
   "metadata": {},
   "outputs": [
    {
     "data": {
      "image/png": "[encoded data removed]",
      "text/plain": [
       "<matplotlib.figure.Figure at 0x1d87a9ea278>"
      ]
     },
     "metadata": {},
     "output_type": "display_data"
    }
   ],
   "source": [
    "plt.figure(figsize=(12, 6),)\n",
    "sns.countplot(x = 'ofcrRace', hue = 'ofcrSex', data = df)\n",
    "plt.tight_layout()\n",
    "plt.show()"
   ]
  },
  {
   "cell_type": "code",
   "execution_count": 15,
   "metadata": {},
   "outputs": [],
   "source": [
    "entry_vals = df['Entry'].value_counts()"
   ]
  },
  {
   "cell_type": "code",
   "execution_count": 16,
   "metadata": {},
   "outputs": [
    {
     "data": {
      "text/plain": [
       "Telephone (or TDD)    4370\n",
       "Walk In               3943\n",
       "Online                 443\n",
       "In-Custody             281\n",
       "Letter                  97\n",
       "Telephone               86\n",
       "Outside agency          80\n",
       "Email                   44\n",
       "Unknown                 34\n",
       "Name: Entry, dtype: int64"
      ]
     },
     "execution_count": 16,
     "metadata": {},
     "output_type": "execute_result"
    }
   ],
   "source": [
    "entry_vals"
   ]
  },
  {
   "cell_type": "code",
   "execution_count": 17,
   "metadata": {},
   "outputs": [
    {
     "data": {
      "image/png": "[encoded data removed]",
      "text/plain": [
       "<matplotlib.figure.Figure at 0x1d87aa0d978>"
      ]
     },
     "metadata": {},
     "output_type": "display_data"
    }
   ],
   "source": [
    "plt.figure(figsize=(10, 6),)\n",
    "ax = entry_vals.plot.bar(width = 1.0)\n",
    "for i, v in entry_vals.reset_index().iterrows():\n",
    "    ax.text(i, v.Entry + 0.2, v.Entry, color = 'red')"
   ]
  },
  {
   "cell_type": "code",
   "execution_count": 18,
   "metadata": {},
   "outputs": [],
   "source": [
    "Finding_vals = df['Finding'].value_counts()"
   ]
  },
  {
   "cell_type": "code",
   "execution_count": 21,
   "metadata": {},
   "outputs": [
    {
     "data": {
      "image/png": "[encoded data removed]",
      "text/plain": [
       "<Figure size 720x432 with 1 Axes>"
      ]
     },
     "metadata": {},
     "output_type": "display_data"
    }
   ],
   "source": [
    "plt.figure(figsize=(10, 6),)\n",
    "ax = Finding_vals.plot.bar(width = 1.0)\n",
    "for i, v in Finding_vals.reset_index().iterrows():\n",
    "    ax.text(i, v.Finding + 0.2, v.Finding, color = 'red')"
   ]
  },
  {
   "cell_type": "code",
   "execution_count": 21,
   "metadata": {},
   "outputs": [],
   "source": [
    "# Time difference between Closing Date and Reporting Date for each case\n",
    "df['Report Date'] = pd.to_datetime(df['Report Date'], dayfirst=True)\n",
    "df['Closed'] = pd.to_datetime(df['Closed'], dayfirst=True)"
   ]
  },
  {
   "cell_type": "code",
   "execution_count": 22,
   "metadata": {},
   "outputs": [],
   "source": [
    "num_days = df['Closed'] - df['Report Date']"
   ]
  },
  {
   "cell_type": "code",
   "execution_count": 23,
   "metadata": {},
   "outputs": [
    {
     "data": {
      "text/plain": [
       "<matplotlib.axes._subplots.AxesSubplot at 0x1d87b611320>"
      ]
     },
     "execution_count": 23,
     "metadata": {},
     "output_type": "execute_result"
    },
    {
     "data": {
      "image/png": "[encoded data removed]",
      "text/plain": [
       "<matplotlib.figure.Figure at 0x1d87b60f978>"
      ]
     },
     "metadata": {},
     "output_type": "display_data"
    }
   ],
   "source": [
    "plt.figure(figsize=(15, 6),)\n",
    "num_days.plot(kind = 'line')"
   ]
  },
  {
   "cell_type": "code",
   "execution_count": 24,
   "metadata": {},
   "outputs": [
    {
     "data": {
      "text/plain": [
       "<matplotlib.axes._subplots.AxesSubplot at 0x1d87b4b1748>"
      ]
     },
     "execution_count": 24,
     "metadata": {},
     "output_type": "execute_result"
    },
    {
     "data": {
      "image/png": "[encoded data removed]",
      "text/plain": [
       "<matplotlib.figure.Figure at 0x1d87b612358>"
      ]
     },
     "metadata": {},
     "output_type": "display_data"
    }
   ],
   "source": [
    "num_corr = df.corr()\n",
    "sns.heatmap(num_corr)"
   ]
  },
  {
   "cell_type": "code",
   "execution_count": 25,
   "metadata": {},
   "outputs": [
    {
     "data": {
      "image/png": "[encoded data removed]",
      "text/plain": [
       "<matplotlib.figure.Figure at 0x1d87aa3d4a8>"
      ]
     },
     "metadata": {},
     "output_type": "display_data"
    }
   ],
   "source": [
    "sns.set_style(\"whitegrid\")\n",
    "ax = sns.violinplot(x = df['Age'], color = 'green', )"
   ]
  },
  {
   "cell_type": "markdown",
   "metadata": {},
   "source": [
    "# Summary"
   ]
  },
  {
   "cell_type": "markdown",
   "metadata": {},
   "source": [
    "The name of the dataset is “DPD: Citizen Complaints” which has been fetched from the following URL: https://data.detroitmi.gov/Public-Safety/DPD-Citizen-Complaints/kahe-efs3\n",
    "\n",
    "This particular dataset shows all citizen complaints that were received by the Detroit Police Department and the Board of Police Commissioners since January 1, 2016. This dataset has information about the nature of individual complaints, demographics for citizens filing the complaints and the officer against which the complaint was filed. This data gets updated every month.\n",
    "\n",
    "The dataset contains 9,378 rows and 14 columns. Each row is a citizen complaint. The head and tail commands displayed the initial and last 5 rows of the data. The data had NaN values, which mean not a number. Using the describe function, the statistical data was shown. With this, it was understood that the CCR and Age had numerical data. The count of each allegation has been provided.\n",
    "\n",
    "The first visualization shows that Procedure type allegation has been repeated for the highest number of times and Arrest type allegation has repeated for the least number of times. \n",
    "\n",
    "The second visualization shows the count and gender of citizen race. In this it was found that Black Male and Female had the highest count. Asian and Chaldean had the least count.\n",
    "\n",
    "Similarly, the third visualization showed the count of officer’s race and gender, Black being the highest and Other being the least. \n",
    "\n",
    "The fourth visualization shows how the complaint was filed. In this, Telephone had the highest count and Unknown had the least count.\n",
    "\n",
    "The fifth visualization showed the count of Findings. No Charge had the highest count and Pending had the least count.\n",
    "\n",
    "The sixth visualization shows the duration between reporting date and closing date of the complaints. \n",
    "\n",
    "The seventh visualization shows the correlation between Age and CCR. From the visualization it was observed that there was a strong negative correlation.\n",
    "\n",
    "The eighth visualization shows the violin plot for age. It was observed that the age was widespread between the range 20 and 60.\n"
   ]
  },
  {
   "cell_type": "code",
   "execution_count": null,
   "metadata": {},
   "outputs": [],
   "source": []
  }
 ],
 "metadata": {
  "kernelspec": {
   "display_name": "Python 3",
   "language": "python",
   "name": "python3"
  },
  "language_info": {
   "codemirror_mode": {
    "name": "ipython",
    "version": 3
   },
   "file_extension": ".py",
   "mimetype": "text/x-python",
   "name": "python",
   "nbconvert_exporter": "python",
   "pygments_lexer": "ipython3",
   "version": "3.6.4"
  }
 },
 "nbformat": 4,
 "nbformat_minor": 2
}
